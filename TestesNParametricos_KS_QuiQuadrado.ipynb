{
  "cells": [
    {
      "cell_type": "markdown",
      "source": [
        "# **Teste de Kolmogorov-Smirnov**\n",
        "\n"
      ],
      "metadata": {
        "id": "B4iRQJ0Y7cxc"
      }
    },
    {
      "cell_type": "markdown",
      "source": [
        "Verificar se os dados amostrais são provenientes de uma\n",
        "distribuição específica e conhecida."
      ],
      "metadata": {
        "id": "gZNLIZYZ7iKs"
      }
    },
    {
      "cell_type": "markdown",
      "source": [
        "## Contexto"
      ],
      "metadata": {
        "id": "kC7xJjI473Gx"
      }
    },
    {
      "cell_type": "markdown",
      "source": [
        "Testar se as alturas do time do Real Madrid seguem uma distribuição especificada através do testde de Smirnov Kolmogorov"
      ],
      "metadata": {
        "id": "IDaorzVw8CWl"
      }
    },
    {
      "cell_type": "code",
      "source": [
        "install.packages(\"readxl\")"
      ],
      "metadata": {
        "id": "lqGJ-Rlc9s13",
        "outputId": "d4a4a98c-a509-47af-dcd0-ee3265f12f85",
        "colab": {
          "base_uri": "https://localhost:8080/"
        }
      },
      "execution_count": 5,
      "outputs": [
        {
          "output_type": "stream",
          "name": "stderr",
          "text": [
            "Installing package into ‘/usr/local/lib/R/site-library’\n",
            "(as ‘lib’ is unspecified)\n",
            "\n"
          ]
        }
      ]
    },
    {
      "cell_type": "code",
      "source": [
        "library(\"readxl\")\n",
        "\n",
        "dados <- read_excel(\"Idade_RealMadrid.xlsx\", sheet='Planilha1')\n",
        "head(dados)"
      ],
      "metadata": {
        "id": "L-DFr9Ep7f4j",
        "outputId": "d7652f67-1c34-4009-9a3c-8d9cc27dc421",
        "colab": {
          "base_uri": "https://localhost:8080/",
          "height": 286
        }
      },
      "execution_count": 20,
      "outputs": [
        {
          "output_type": "display_data",
          "data": {
            "text/html": [
              "<table class=\"dataframe\">\n",
              "<caption>A tibble: 6 × 2</caption>\n",
              "<thead>\n",
              "\t<tr><th scope=col>Jogador</th><th scope=col>Idade</th></tr>\n",
              "\t<tr><th scope=col>&lt;chr&gt;</th><th scope=col>&lt;dbl&gt;</th></tr>\n",
              "</thead>\n",
              "<tbody>\n",
              "\t<tr><td>Dani Carvaral    </td><td>32</td></tr>\n",
              "\t<tr><td>Éder Militão3    </td><td>26</td></tr>\n",
              "\t<tr><td>David Alaba4     </td><td>32</td></tr>\n",
              "\t<tr><td>Jesús Vallejo18  </td><td>27</td></tr>\n",
              "\t<tr><td>Fran García20    </td><td>25</td></tr>\n",
              "\t<tr><td>Antonio Rüdiger22</td><td>31</td></tr>\n",
              "</tbody>\n",
              "</table>\n"
            ],
            "text/markdown": "\nA tibble: 6 × 2\n\n| Jogador &lt;chr&gt; | Idade &lt;dbl&gt; |\n|---|---|\n| Dani Carvaral     | 32 |\n| Éder Militão3     | 26 |\n| David Alaba4      | 32 |\n| Jesús Vallejo18   | 27 |\n| Fran García20     | 25 |\n| Antonio Rüdiger22 | 31 |\n\n",
            "text/latex": "A tibble: 6 × 2\n\\begin{tabular}{ll}\n Jogador & Idade\\\\\n <chr> & <dbl>\\\\\n\\hline\n\t Dani Carvaral     & 32\\\\\n\t Éder Militão3     & 26\\\\\n\t David Alaba4      & 32\\\\\n\t Jesús Vallejo18   & 27\\\\\n\t Fran García20     & 25\\\\\n\t Antonio Rüdiger22 & 31\\\\\n\\end{tabular}\n",
            "text/plain": [
              "  Jogador           Idade\n",
              "1 Dani Carvaral     32   \n",
              "2 Éder Militão3     26   \n",
              "3 David Alaba4      32   \n",
              "4 Jesús Vallejo18   27   \n",
              "5 Fran García20     25   \n",
              "6 Antonio Rüdiger22 31   "
            ]
          },
          "metadata": {}
        }
      ]
    },
    {
      "cell_type": "markdown",
      "source": [
        "## Hipóteses"
      ],
      "metadata": {
        "id": "OUHc6QTJ-LYq"
      }
    },
    {
      "cell_type": "markdown",
      "source": [
        "Dado um nível de significância: $$ \\alpha = 0,25 $$ queremos testar:"
      ],
      "metadata": {
        "id": "YP6wJrUqBsHx"
      }
    },
    {
      "cell_type": "markdown",
      "source": [
        "$$\n",
        "H_0: \\text{ As idades dos jogadores seguem um distribuição normal com média }μ = 25 \\text{ e variância }σ^2 = 4\n",
        "$$\n",
        "$$\n",
        "H_1: \\text{ As idades dos jogadores não seguem um distribuição normal com média }μ = 25 \\text{ e variância }σ^2 = 4\n",
        "$$"
      ],
      "metadata": {
        "id": "zBskZaaM-Oxl"
      }
    },
    {
      "cell_type": "markdown",
      "source": [
        "## Aplicação do teste"
      ],
      "metadata": {
        "id": "PAVChKlL_pk0"
      }
    },
    {
      "cell_type": "code",
      "source": [
        "idade <- as.vector(dados$Idade)\n",
        "hist(idade)\n",
        "idade"
      ],
      "metadata": {
        "id": "k3X3uiIG-NVK",
        "outputId": "62144a8c-16b6-442b-c3a1-72d3957f3e3b",
        "colab": {
          "base_uri": "https://localhost:8080/",
          "height": 454
        }
      },
      "execution_count": 23,
      "outputs": [
        {
          "output_type": "display_data",
          "data": {
            "text/html": [
              "<style>\n",
              ".list-inline {list-style: none; margin:0; padding: 0}\n",
              ".list-inline>li {display: inline-block}\n",
              ".list-inline>li:not(:last-child)::after {content: \"\\00b7\"; padding: 0 .5ex}\n",
              "</style>\n",
              "<ol class=list-inline><li>32</li><li>26</li><li>32</li><li>27</li><li>25</li><li>31</li><li>29</li><li>19</li><li>21</li><li>21</li><li>26</li><li>39</li><li>24</li><li>19</li><li>33</li><li>28</li><li>25</li><li>19</li><li>24</li><li>25</li><li>23</li><li>18</li></ol>\n"
            ],
            "text/markdown": "1. 32\n2. 26\n3. 32\n4. 27\n5. 25\n6. 31\n7. 29\n8. 19\n9. 21\n10. 21\n11. 26\n12. 39\n13. 24\n14. 19\n15. 33\n16. 28\n17. 25\n18. 19\n19. 24\n20. 25\n21. 23\n22. 18\n\n\n",
            "text/latex": "\\begin{enumerate*}\n\\item 32\n\\item 26\n\\item 32\n\\item 27\n\\item 25\n\\item 31\n\\item 29\n\\item 19\n\\item 21\n\\item 21\n\\item 26\n\\item 39\n\\item 24\n\\item 19\n\\item 33\n\\item 28\n\\item 25\n\\item 19\n\\item 24\n\\item 25\n\\item 23\n\\item 18\n\\end{enumerate*}\n",
            "text/plain": [
              " [1] 32 26 32 27 25 31 29 19 21 21 26 39 24 19 33 28 25 19 24 25 23 18"
            ]
          },
          "metadata": {}
        },
        {
          "output_type": "display_data",
          "data": {
            "text/plain": [
              "Plot with title “Histogram of idade”"
            ],
            "image/png": "[encoded data removed]"
          },
          "metadata": {
            "image/png": {
              "width": 420,
              "height": 420
            }
          }
        }
      ]
    },
    {
      "cell_type": "markdown",
      "source": [
        "Aplicando o teste KS:"
      ],
      "metadata": {
        "id": "XMypgnixCSFG"
      }
    },
    {
      "cell_type": "code",
      "source": [
        "ks.test(idade,\"pnorm\",mean = 25,sd = 2)"
      ],
      "metadata": {
        "id": "2xLU10fFANO6",
        "outputId": "abe03912-77a3-42ab-ecae-3f09d81844fb",
        "colab": {
          "base_uri": "https://localhost:8080/",
          "height": 163
        }
      },
      "execution_count": 27,
      "outputs": [
        {
          "output_type": "stream",
          "name": "stderr",
          "text": [
            "Warning message in ks.test.default(idade, \"pnorm\", mean = 25, sd = 2):\n",
            "“ties should not be present for the one-sample Kolmogorov-Smirnov test”\n"
          ]
        },
        {
          "output_type": "display_data",
          "data": {
            "text/plain": [
              "\n",
              "\tAsymptotic one-sample Kolmogorov-Smirnov test\n",
              "\n",
              "data:  idade\n",
              "D = 0.25137, p-value = 0.124\n",
              "alternative hypothesis: two-sided\n"
            ]
          },
          "metadata": {}
        }
      ]
    },
    {
      "cell_type": "markdown",
      "source": [
        "## Decisão"
      ],
      "metadata": {
        "id": "xLfWylnKCZUW"
      }
    },
    {
      "cell_type": "markdown",
      "source": [
        "Dado $ α = 0.05 = 5% $, o teste retornou um $valor-p = 0,127$, portanto  $valor-p > α$. Assim sendo, temos evidências fortes atrevés do Teste de Kolmogorov-Smirnov para não rejeitarmos H0."
      ],
      "metadata": {
        "id": "cwQgGzoCClXA"
      }
    },
    {
      "cell_type": "markdown",
      "source": [
        "## Conclusão"
      ],
      "metadata": {
        "id": "gHjMUmSdDSzf"
      }
    },
    {
      "cell_type": "markdown",
      "source": [
        "Dado $α = 5%$ os dados nos dão evidências suficientes de que a idades dos jogadores da equipe Real Madrid seguem uma distribuição normal com $μ=25$ e $σ^2 = 4$."
      ],
      "metadata": {
        "id": "4TrGZqb1DZAR"
      }
    },
    {
      "cell_type": "markdown",
      "source": [
        "# **Teste Qui-Quadrado de Aderência**"
      ],
      "metadata": {
        "id": "MA7iMqvgD4lp"
      }
    },
    {
      "cell_type": "code",
      "source": [],
      "metadata": {
        "id": "T8lEFKjMD033"
      },
      "execution_count": null,
      "outputs": []
    }
  ],
  "metadata": {
    "colab": {
      "name": "Olá, este é o Colaboratory",
      "provenance": []
    },
    "kernelspec": {
      "display_name": "R",
      "name": "ir"
    },
    "language_info": {
      "name": "R"
    }
  },
  "nbformat": 4,
  "nbformat_minor": 0
}