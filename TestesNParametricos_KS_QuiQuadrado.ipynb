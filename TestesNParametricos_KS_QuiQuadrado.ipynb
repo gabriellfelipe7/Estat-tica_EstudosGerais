{
  "cells": [
    {
      "cell_type": "markdown",
      "source": [
        "# **Teste de Kolmogorov-Smirnov**\n",
        "\n"
      ],
      "metadata": {
        "id": "B4iRQJ0Y7cxc"
      }
    },
    {
      "cell_type": "markdown",
      "source": [
        "Verificar se os dados amostrais são provenientes de uma\n",
        "distribuição específica e conhecida."
      ],
      "metadata": {
        "id": "gZNLIZYZ7iKs"
      }
    },
    {
      "cell_type": "markdown",
      "source": [
        "## Contexto"
      ],
      "metadata": {
        "id": "kC7xJjI473Gx"
      }
    },
    {
      "cell_type": "markdown",
      "source": [
        "Testar se as alturas do time do Real Madrid seguem uma distribuição especificada através do testde de Smirnov Kolmogorov"
      ],
      "metadata": {
        "id": "IDaorzVw8CWl"
      }
    },
    {
      "cell_type": "code",
      "source": [
        "install.packages(\"readxl\")"
      ],
      "metadata": {
        "colab": {
          "base_uri": "https://localhost:8080/"
        },
        "id": "lqGJ-Rlc9s13",
        "outputId": "d4a4a98c-a509-47af-dcd0-ee3265f12f85"
      },
      "execution_count": null,
      "outputs": [
        {
          "output_type": "stream",
          "name": "stderr",
          "text": [
            "Installing package into ‘/usr/local/lib/R/site-library’\n",
            "(as ‘lib’ is unspecified)\n",
            "\n"
          ]
        }
      ]
    },
    {
      "cell_type": "code",
      "source": [
        "library(\"readxl\")\n",
        "\n",
        "dados <- read_excel(\"Idade_RealMadrid.xlsx\", sheet='Planilha1')\n",
        "head(dados)"
      ],
      "metadata": {
        "colab": {
          "base_uri": "https://localhost:8080/",
          "height": 286
        },
        "id": "L-DFr9Ep7f4j",
        "outputId": "d7652f67-1c34-4009-9a3c-8d9cc27dc421"
      },
      "execution_count": null,
      "outputs": [
        {
          "output_type": "display_data",
          "data": {
            "text/html": [
              "<table class=\"dataframe\">\n",
              "<caption>A tibble: 6 × 2</caption>\n",
              "<thead>\n",
              "\t<tr><th scope=col>Jogador</th><th scope=col>Idade</th></tr>\n",
              "\t<tr><th scope=col>&lt;chr&gt;</th><th scope=col>&lt;dbl&gt;</th></tr>\n",
              "</thead>\n",
              "<tbody>\n",
              "\t<tr><td>Dani Carvaral    </td><td>32</td></tr>\n",
              "\t<tr><td>Éder Militão3    </td><td>26</td></tr>\n",
              "\t<tr><td>David Alaba4     </td><td>32</td></tr>\n",
              "\t<tr><td>Jesús Vallejo18  </td><td>27</td></tr>\n",
              "\t<tr><td>Fran García20    </td><td>25</td></tr>\n",
              "\t<tr><td>Antonio Rüdiger22</td><td>31</td></tr>\n",
              "</tbody>\n",
              "</table>\n"
            ],
            "text/markdown": "\nA tibble: 6 × 2\n\n| Jogador &lt;chr&gt; | Idade &lt;dbl&gt; |\n|---|---|\n| Dani Carvaral     | 32 |\n| Éder Militão3     | 26 |\n| David Alaba4      | 32 |\n| Jesús Vallejo18   | 27 |\n| Fran García20     | 25 |\n| Antonio Rüdiger22 | 31 |\n\n",
            "text/latex": "A tibble: 6 × 2\n\\begin{tabular}{ll}\n Jogador & Idade\\\\\n <chr> & <dbl>\\\\\n\\hline\n\t Dani Carvaral     & 32\\\\\n\t Éder Militão3     & 26\\\\\n\t David Alaba4      & 32\\\\\n\t Jesús Vallejo18   & 27\\\\\n\t Fran García20     & 25\\\\\n\t Antonio Rüdiger22 & 31\\\\\n\\end{tabular}\n",
            "text/plain": [
              "  Jogador           Idade\n",
              "1 Dani Carvaral     32   \n",
              "2 Éder Militão3     26   \n",
              "3 David Alaba4      32   \n",
              "4 Jesús Vallejo18   27   \n",
              "5 Fran García20     25   \n",
              "6 Antonio Rüdiger22 31   "
            ]
          },
          "metadata": {}
        }
      ]
    },
    {
      "cell_type": "markdown",
      "source": [
        "## Definição das Hipóteses"
      ],
      "metadata": {
        "id": "OUHc6QTJ-LYq"
      }
    },
    {
      "cell_type": "markdown",
      "source": [
        "Dado um nível de significância $ \\alpha = 0,05 = 5\\text{%} $ queremos testar:"
      ],
      "metadata": {
        "id": "YP6wJrUqBsHx"
      }
    },
    {
      "cell_type": "markdown",
      "source": [
        "$$\n",
        "H_0: \\text{ As idades dos jogadores seguem um distribuição normal com média }μ = 25 \\text{ e variância }σ^2 = 4\n",
        "$$\n",
        "$$\n",
        "H_1: \\text{ As idades dos jogadores não seguem um distribuição normal com média }μ = 25 \\text{ e variância }σ^2 = 4\n",
        "$$"
      ],
      "metadata": {
        "id": "zBskZaaM-Oxl"
      }
    },
    {
      "cell_type": "markdown",
      "source": [
        "## Aplicação do teste"
      ],
      "metadata": {
        "id": "PAVChKlL_pk0"
      }
    },
    {
      "cell_type": "code",
      "source": [
        "idade <- as.vector(dados$Idade)\n",
        "hist(idade)\n",
        "idade"
      ],
      "metadata": {
        "colab": {
          "base_uri": "https://localhost:8080/",
          "height": 454
        },
        "id": "k3X3uiIG-NVK",
        "outputId": "62144a8c-16b6-442b-c3a1-72d3957f3e3b"
      },
      "execution_count": null,
      "outputs": [
        {
          "output_type": "display_data",
          "data": {
            "text/html": [
              "<style>\n",
              ".list-inline {list-style: none; margin:0; padding: 0}\n",
              ".list-inline>li {display: inline-block}\n",
              ".list-inline>li:not(:last-child)::after {content: \"\\00b7\"; padding: 0 .5ex}\n",
              "</style>\n",
              "<ol class=list-inline><li>32</li><li>26</li><li>32</li><li>27</li><li>25</li><li>31</li><li>29</li><li>19</li><li>21</li><li>21</li><li>26</li><li>39</li><li>24</li><li>19</li><li>33</li><li>28</li><li>25</li><li>19</li><li>24</li><li>25</li><li>23</li><li>18</li></ol>\n"
            ],
            "text/markdown": "1. 32\n2. 26\n3. 32\n4. 27\n5. 25\n6. 31\n7. 29\n8. 19\n9. 21\n10. 21\n11. 26\n12. 39\n13. 24\n14. 19\n15. 33\n16. 28\n17. 25\n18. 19\n19. 24\n20. 25\n21. 23\n22. 18\n\n\n",
            "text/latex": "\\begin{enumerate*}\n\\item 32\n\\item 26\n\\item 32\n\\item 27\n\\item 25\n\\item 31\n\\item 29\n\\item 19\n\\item 21\n\\item 21\n\\item 26\n\\item 39\n\\item 24\n\\item 19\n\\item 33\n\\item 28\n\\item 25\n\\item 19\n\\item 24\n\\item 25\n\\item 23\n\\item 18\n\\end{enumerate*}\n",
            "text/plain": [
              " [1] 32 26 32 27 25 31 29 19 21 21 26 39 24 19 33 28 25 19 24 25 23 18"
            ]
          },
          "metadata": {}
        },
        {
          "output_type": "display_data",
          "data": {
            "text/plain": [
              "Plot with title “Histogram of idade”"
            ],
            "image/png": "[encoded data removed]"
          },
          "metadata": {
            "image/png": {
              "width": 420,
              "height": 420
            }
          }
        }
      ]
    },
    {
      "cell_type": "markdown",
      "source": [
        "Aplicando o teste KS:"
      ],
      "metadata": {
        "id": "XMypgnixCSFG"
      }
    },
    {
      "cell_type": "code",
      "source": [
        "ks.test(idade,\"pnorm\",mean = 25,sd = 2)"
      ],
      "metadata": {
        "colab": {
          "base_uri": "https://localhost:8080/",
          "height": 163
        },
        "id": "2xLU10fFANO6",
        "outputId": "abe03912-77a3-42ab-ecae-3f09d81844fb"
      },
      "execution_count": null,
      "outputs": [
        {
          "output_type": "stream",
          "name": "stderr",
          "text": [
            "Warning message in ks.test.default(idade, \"pnorm\", mean = 25, sd = 2):\n",
            "“ties should not be present for the one-sample Kolmogorov-Smirnov test”\n"
          ]
        },
        {
          "output_type": "display_data",
          "data": {
            "text/plain": [
              "\n",
              "\tAsymptotic one-sample Kolmogorov-Smirnov test\n",
              "\n",
              "data:  idade\n",
              "D = 0.25137, p-value = 0.124\n",
              "alternative hypothesis: two-sided\n"
            ]
          },
          "metadata": {}
        }
      ]
    },
    {
      "cell_type": "markdown",
      "source": [
        "## Decisão"
      ],
      "metadata": {
        "id": "xLfWylnKCZUW"
      }
    },
    {
      "cell_type": "markdown",
      "source": [
        "Dado $ α = 0.05 = 5% $, o teste retornou um $p-valor = 0,127$, portanto  $valor-p > α$. Assim sendo, temos evidências fortes atrevés do Teste de Kolmogorov-Smirnov para não rejeitarmos H0."
      ],
      "metadata": {
        "id": "cwQgGzoCClXA"
      }
    },
    {
      "cell_type": "markdown",
      "source": [
        "## Conclusão"
      ],
      "metadata": {
        "id": "gHjMUmSdDSzf"
      }
    },
    {
      "cell_type": "markdown",
      "source": [
        "Dado $α = 5%$ os dados nos dão evidências suficientes de que a idades dos jogadores da equipe Real Madrid seguem uma distribuição normal com $μ=25$ e $σ^2 = 4$."
      ],
      "metadata": {
        "id": "4TrGZqb1DZAR"
      }
    },
    {
      "cell_type": "markdown",
      "source": [
        "# **Teste Qui-Quadrado $(𝓧^2)$ de Aderência**"
      ],
      "metadata": {
        "id": "MA7iMqvgD4lp"
      }
    },
    {
      "cell_type": "markdown",
      "source": [
        "Testar a adequabilidade de um modelo probabilístico a um conjunto de\n",
        "dados observado."
      ],
      "metadata": {
        "id": "inNpajQTFhlY"
      }
    },
    {
      "cell_type": "markdown",
      "source": [
        "## Contexto"
      ],
      "metadata": {
        "id": "JpzeqZAsIz2i"
      }
    },
    {
      "cell_type": "markdown",
      "source": [
        "Verificar a adequabilidade da frequência de gols do atleta Lionel Messi de 2005 a 2022 através do Teste Qui-Quadrado de adrência."
      ],
      "metadata": {
        "id": "pRHr_RbyI2Cb"
      }
    },
    {
      "cell_type": "code",
      "source": [
        "library(\"readxl\")\n",
        "\n",
        "dados <- read_excel(\"GolsMessi.xlsx\", sheet='Planilha1')\n",
        "head(dados)"
      ],
      "metadata": {
        "colab": {
          "base_uri": "https://localhost:8080/",
          "height": 286
        },
        "id": "T8lEFKjMD033",
        "outputId": "eff84259-73c7-40be-ae0f-b415b20a2160"
      },
      "execution_count": 2,
      "outputs": [
        {
          "output_type": "display_data",
          "data": {
            "text/html": [
              "<table class=\"dataframe\">\n",
              "<caption>A tibble: 6 × 3</caption>\n",
              "<thead>\n",
              "\t<tr><th scope=col>Temporada</th><th scope=col>Clube</th><th scope=col>Gols</th></tr>\n",
              "\t<tr><th scope=col>&lt;chr&gt;</th><th scope=col>&lt;chr&gt;</th><th scope=col>&lt;dbl&gt;</th></tr>\n",
              "</thead>\n",
              "<tbody>\n",
              "\t<tr><td>2021/22</td><td>Paris SG </td><td>34</td></tr>\n",
              "\t<tr><td>2020/21</td><td>Barcelona</td><td>47</td></tr>\n",
              "\t<tr><td>2019/20</td><td>Barcelona</td><td>44</td></tr>\n",
              "\t<tr><td>2018/19</td><td>Barcelona</td><td>50</td></tr>\n",
              "\t<tr><td>2017/18</td><td>Barcelona</td><td>54</td></tr>\n",
              "\t<tr><td>2016/17</td><td>Barcelona</td><td>52</td></tr>\n",
              "</tbody>\n",
              "</table>\n"
            ],
            "text/markdown": "\nA tibble: 6 × 3\n\n| Temporada &lt;chr&gt; | Clube &lt;chr&gt; | Gols &lt;dbl&gt; |\n|---|---|---|\n| 2021/22 | Paris SG  | 34 |\n| 2020/21 | Barcelona | 47 |\n| 2019/20 | Barcelona | 44 |\n| 2018/19 | Barcelona | 50 |\n| 2017/18 | Barcelona | 54 |\n| 2016/17 | Barcelona | 52 |\n\n",
            "text/latex": "A tibble: 6 × 3\n\\begin{tabular}{lll}\n Temporada & Clube & Gols\\\\\n <chr> & <chr> & <dbl>\\\\\n\\hline\n\t 2021/22 & Paris SG  & 34\\\\\n\t 2020/21 & Barcelona & 47\\\\\n\t 2019/20 & Barcelona & 44\\\\\n\t 2018/19 & Barcelona & 50\\\\\n\t 2017/18 & Barcelona & 54\\\\\n\t 2016/17 & Barcelona & 52\\\\\n\\end{tabular}\n",
            "text/plain": [
              "  Temporada Clube     Gols\n",
              "1 2021/22   Paris SG  34  \n",
              "2 2020/21   Barcelona 47  \n",
              "3 2019/20   Barcelona 44  \n",
              "4 2018/19   Barcelona 50  \n",
              "5 2017/18   Barcelona 54  \n",
              "6 2016/17   Barcelona 52  "
            ]
          },
          "metadata": {}
        }
      ]
    },
    {
      "cell_type": "markdown",
      "source": [
        "## Definição das Hipóteses ($Poisson(50)$)"
      ],
      "metadata": {
        "id": "DIIR_Id5Jzwh"
      }
    },
    {
      "cell_type": "markdown",
      "source": [
        "Dado um nível de significância $ \\alpha = 0,01 = 1\\text{%} $ queremos testar:"
      ],
      "metadata": {
        "id": "fXaGGJGlJ68K"
      }
    },
    {
      "cell_type": "markdown",
      "source": [
        "$$\n",
        "H_0: \\text{A frequência de gols/temporado do atleta Lionel Messi segue uma distribuição de Poisson com }λ=50\n",
        "$$\n",
        "$$\n",
        "H_1: \\text{A frequência de gols/temporado do atleta Lionel Messi não segue uma distribuição de Poisson com }λ=50\n",
        "$$"
      ],
      "metadata": {
        "id": "960nEgfMKTHs"
      }
    },
    {
      "cell_type": "markdown",
      "source": [
        "## Aplicação do teste"
      ],
      "metadata": {
        "id": "Q5KfeYWHLlxV"
      }
    },
    {
      "cell_type": "code",
      "source": [
        "gols <- as.vector(dados$Gols)\n",
        "hist(gols)\n",
        "gols"
      ],
      "metadata": {
        "id": "OkKiEljOJhil",
        "outputId": "991945bd-1fa8-4402-9fc4-3c6515b032f8",
        "colab": {
          "base_uri": "https://localhost:8080/",
          "height": 454
        }
      },
      "execution_count": 29,
      "outputs": [
        {
          "output_type": "display_data",
          "data": {
            "text/html": [
              "<style>\n",
              ".list-inline {list-style: none; margin:0; padding: 0}\n",
              ".list-inline>li {display: inline-block}\n",
              ".list-inline>li:not(:last-child)::after {content: \"\\00b7\"; padding: 0 .5ex}\n",
              "</style>\n",
              "<ol class=list-inline><li>34</li><li>47</li><li>44</li><li>50</li><li>54</li><li>52</li><li>49</li><li>57</li><li>46</li><li>50</li><li>60</li><li>55</li><li>53</li><li>51</li><li>40</li><li>36</li><li>25</li></ol>\n"
            ],
            "text/markdown": "1. 34\n2. 47\n3. 44\n4. 50\n5. 54\n6. 52\n7. 49\n8. 57\n9. 46\n10. 50\n11. 60\n12. 55\n13. 53\n14. 51\n15. 40\n16. 36\n17. 25\n\n\n",
            "text/latex": "\\begin{enumerate*}\n\\item 34\n\\item 47\n\\item 44\n\\item 50\n\\item 54\n\\item 52\n\\item 49\n\\item 57\n\\item 46\n\\item 50\n\\item 60\n\\item 55\n\\item 53\n\\item 51\n\\item 40\n\\item 36\n\\item 25\n\\end{enumerate*}\n",
            "text/plain": [
              " [1] 34 47 44 50 54 52 49 57 46 50 60 55 53 51 40 36 25"
            ]
          },
          "metadata": {}
        },
        {
          "output_type": "display_data",
          "data": {
            "text/plain": [
              "Plot with title “Histogram of gols”"
            ],
            "image/png": "[encoded data removed]"
          },
          "metadata": {
            "image/png": {
              "width": 420,
              "height": 420
            }
          }
        }
      ]
    },
    {
      "cell_type": "markdown",
      "source": [
        "Aplicando o teste Qui-Quadrado de Aderência:"
      ],
      "metadata": {
        "id": "hFvNgYlaLxWA"
      }
    },
    {
      "cell_type": "code",
      "source": [
        "lambda <- 50\n",
        "min_gols <- min(gols)\n",
        "max_gols <- max(gols)\n",
        "\n",
        "freq_obs <- table(gols)\n",
        "\n",
        "valores_gols <- min_gols:max_gols\n",
        "\n",
        "freq_esperadas <- dpois(valores_gols, lambda) * length(gols)\n",
        "\n",
        "freq_obs_completa <- as.numeric(table(factor(gols, levels = valores_gols)))\n",
        "\n",
        "chisq_result <- chisq.test(x = freq_obs_completa, p = freq_esperadas, rescale.p = TRUE)\n",
        "\n",
        "print(chisq_result)"
      ],
      "metadata": {
        "colab": {
          "base_uri": "https://localhost:8080/"
        },
        "id": "i8g-rihHGF6-",
        "outputId": "0e9485bd-c0ee-4d5e-cda3-19ddcf2f2cbf"
      },
      "execution_count": 30,
      "outputs": [
        {
          "output_type": "stream",
          "name": "stderr",
          "text": [
            "Warning message in chisq.test(x = freq_obs_completa, p = freq_esperadas, rescale.p = TRUE):\n",
            "“Chi-squared approximation may be incorrect”\n"
          ]
        },
        {
          "output_type": "stream",
          "name": "stdout",
          "text": [
            "\n",
            "\tChi-squared test for given probabilities\n",
            "\n",
            "data:  freq_obs_completa\n",
            "X-squared = 1498.1, df = 35, p-value < 2.2e-16\n",
            "\n"
          ]
        }
      ]
    },
    {
      "cell_type": "markdown",
      "source": [
        "## Conclusão\n",
        "O teste retornou um $p-valor < α = 0,01 = 1\\text{%}$, assim, segue que as frequências de gols do Lionel Messi durante as temporadas consideradas não podem ser adequadas num modelo de Poisson com $λ=50$."
      ],
      "metadata": {
        "id": "g13kM_FiJ7NV"
      }
    },
    {
      "cell_type": "markdown",
      "source": [
        "Assim, testaremos outras hipóteses:"
      ],
      "metadata": {
        "id": "srJ_B9RzKrYn"
      }
    },
    {
      "cell_type": "markdown",
      "source": [
        "## Hipóteses (Normal(45,2))"
      ],
      "metadata": {
        "id": "-L-sink9LOuY"
      }
    },
    {
      "cell_type": "markdown",
      "source": [
        "$$\n",
        "H_0: \\text{A frequência de gols/temporado do atleta Lionel Messi segue uma distribuição de Poisson com }λ=50\n",
        "$$\n",
        "$$\n",
        "H_1: \\text{A frequência de gols/temporado do atleta Lionel Messi não segue uma distribuição de Poisson com }λ=50\n",
        "$$"
      ],
      "metadata": {
        "id": "rIG2Z-iYMQCl"
      }
    },
    {
      "cell_type": "markdown",
      "source": [
        "## Aplicação do teste"
      ],
      "metadata": {
        "id": "uh7wGCbvMTX2"
      }
    },
    {
      "cell_type": "markdown",
      "source": [
        "Aplicando o teste para a distribuição Normal com $μ=50$ e $σ^2=4$."
      ],
      "metadata": {
        "id": "ioPX5l_TMWZH"
      }
    },
    {
      "cell_type": "code",
      "source": [
        "media <-\n",
        "desvio_padrao <- 6\n",
        "\n",
        "min_gols <- min(gols)\n",
        "max_gols <- max(gols)\n",
        "\n",
        "freq_obs <- table(gols)\n",
        "\n",
        "valores_gols <- min_gols:max_gols\n",
        "\n",
        "freq_esperadas <- dnorm(valores_gols, mean = media, sd = desvio_padrao) * length(gols)\n",
        "\n",
        "freq_obs_completa <- as.numeric(table(factor(gols, levels = valores_gols)))\n",
        "\n",
        "chisq_result <- chisq.test(x = freq_obs_completa, p = freq_esperadas, rescale.p = TRUE)\n",
        "\n",
        "print(chisq_result)"
      ],
      "metadata": {
        "colab": {
          "base_uri": "https://localhost:8080/"
        },
        "id": "bVw5t06ZKppK",
        "outputId": "5b965bf1-9e24-49a8-bce9-2375b2ed7e45"
      },
      "execution_count": 36,
      "outputs": [
        {
          "output_type": "stream",
          "name": "stderr",
          "text": [
            "Warning message in chisq.test(x = freq_obs_completa, p = freq_esperadas, rescale.p = TRUE):\n",
            "“Chi-squared approximation may be incorrect”\n"
          ]
        },
        {
          "output_type": "stream",
          "name": "stdout",
          "text": [
            "\n",
            "\tChi-squared test for given probabilities\n",
            "\n",
            "data:  freq_obs_completa\n",
            "X-squared = 222358, df = 35, p-value < 2.2e-16\n",
            "\n"
          ]
        }
      ]
    },
    {
      "cell_type": "markdown",
      "source": [
        "## Conclusão\n",
        "As frequências de gols do atleta Messia também não pôde ser modelo pela distribuição Normal, uma vez que $p - valor < \\mu = 1\\text{%}$."
      ],
      "metadata": {
        "id": "tvDeSbX3Q0TV"
      }
    },
    {
      "cell_type": "markdown",
      "source": [
        "Testemos outras hióteses:"
      ],
      "metadata": {
        "id": "x115f6yORMkR"
      }
    },
    {
      "cell_type": "markdown",
      "source": [
        "## Hipóteses"
      ],
      "metadata": {
        "id": "hVm_hutXROqd"
      }
    },
    {
      "cell_type": "markdown",
      "source": [
        "$$\n",
        "H_0: \\text{A frequência de gols/temporado do atleta Lionel Messi segue uma distribuição de Gamma}\n",
        "$$\n",
        "$$\n",
        "H_1: \\text{A frequência de gols/temporado do atleta Lionel Messi não segue uma distribuição de Gamma}\n",
        "$$"
      ],
      "metadata": {
        "id": "uobKXoE1RQ-t"
      }
    },
    {
      "cell_type": "code",
      "source": [
        "if (!require(MASS)) install.packages(\"MASS\")\n",
        "library(MASS)\n",
        "\n",
        "# Ajustar a distribuição Gamma aos dados\n",
        "# Como a Gamma é contínua, fazemos o ajuste diretamente aos dados de contagem\n",
        "ajuste_gamma <- fitdistr(gols, \"gamma\")\n",
        "\n",
        "# Parâmetros da distribuição Gamma\n",
        "shape <- ajuste_gamma$estimate['shape']\n",
        "rate <- ajuste_gamma$estimate['rate']\n",
        "\n",
        "min_gols <- min(gols)\n",
        "max_gols <- max(gols)\n",
        "valores_gols <- min_gols:max_gols\n",
        "\n",
        "freq_esperadas <- dgamma(valores_gols, shape = shape, rate = rate) * length(gols)\n",
        "\n",
        "freq_obs_completa <- as.numeric(table(factor(gols, levels = valores_gols)))\n",
        "\n",
        "chisq_result <- chisq.test(x = freq_obs_completa, p = freq_esperadas, rescale.p = TRUE)\n",
        "\n",
        "print(chisq_result)"
      ],
      "metadata": {
        "colab": {
          "base_uri": "https://localhost:8080/"
        },
        "id": "3ljYo4vnQEpa",
        "outputId": "a3f28968-e088-4c39-df9f-d7c9b24fe520"
      },
      "execution_count": 41,
      "outputs": [
        {
          "output_type": "stream",
          "name": "stderr",
          "text": [
            "Warning message in chisq.test(x = freq_obs_completa, p = freq_esperadas, rescale.p = TRUE):\n",
            "“Chi-squared approximation may be incorrect”\n"
          ]
        },
        {
          "output_type": "stream",
          "name": "stdout",
          "text": [
            "\n",
            "\tChi-squared test for given probabilities\n",
            "\n",
            "data:  freq_obs_completa\n",
            "X-squared = 52.558, df = 35, p-value = 0.02864\n",
            "\n"
          ]
        }
      ]
    },
    {
      "cell_type": "code",
      "source": [
        "ajuste_gamma"
      ],
      "metadata": {
        "colab": {
          "base_uri": "https://localhost:8080/",
          "height": 72
        },
        "id": "MItRpbcdR9a6",
        "outputId": "23be3336-d79b-4a9e-9ab5-af3e0d783fd5"
      },
      "execution_count": 42,
      "outputs": [
        {
          "output_type": "display_data",
          "data": {
            "text/plain": [
              "     shape       rate   \n",
              "  24.187392    0.512062 \n",
              " ( 8.238977) ( 0.176242)"
            ]
          },
          "metadata": {}
        }
      ]
    },
    {
      "cell_type": "markdown",
      "source": [
        "## Decisão e Conclusão\n",
        "Dado que $p-valor = 0,027$, sob $H_0$ e com $α = 0,01$, não rejeitamos a hipótese nula.\n",
        "\n",
        "Portanto,\n",
        "\n",
        "Com $\\alpha = 1\\text{%}$ as frequências de gols do atleta Lionel Messi durante as temporadas consideradas nos dão evidências suficientes de que podem ser adequadas à distribuição Gamma com o parâmetro de $\\text{forma = 24,19}$ e $\\text{taxa = 0,51}$."
      ],
      "metadata": {
        "id": "Lv8pIMr4SdmK"
      }
    }
  ],
  "metadata": {
    "colab": {
      "provenance": []
    },
    "kernelspec": {
      "display_name": "R",
      "name": "ir"
    },
    "language_info": {
      "name": "R"
    }
  },
  "nbformat": 4,
  "nbformat_minor": 0
}