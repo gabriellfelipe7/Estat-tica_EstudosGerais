{
  "nbformat": 4,
  "nbformat_minor": 0,
  "metadata": {
    "colab": {
      "provenance": []
    },
    "kernelspec": {
      "name": "python3",
      "display_name": "Python 3"
    },
    "language_info": {
      "name": "python"
    }
  },
  "cells": [
    {
      "cell_type": "markdown",
      "source": [
        "#**Teste de MecNemer**"
      ],
      "metadata": {
        "id": "c3dA4IWyoEyj"
      }
    },
    {
      "cell_type": "markdown",
      "source": [
        "Teste que tem como finalidade avaliar se um tratamento aplicado na amostra teve, ou não, o efeito desejado, isto é, avaliar se os elemensto alterarm de categoria dado uma aplicação."
      ],
      "metadata": {
        "id": "xGTUTfthoJop"
      }
    },
    {
      "cell_type": "markdown",
      "source": [
        "## Descrição dos dados"
      ],
      "metadata": {
        "id": "-vf14YPJpc-u"
      }
    },
    {
      "cell_type": "code",
      "execution_count": null,
      "metadata": {
        "id": "iDXKg0xIn5ui"
      },
      "outputs": [],
      "source": []
    }
  ]
}