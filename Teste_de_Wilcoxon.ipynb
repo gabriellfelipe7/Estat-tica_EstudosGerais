{
  "nbformat": 4,
  "nbformat_minor": 0,
  "metadata": {
    "colab": {
      "provenance": []
    },
    "kernelspec": {
      "name": "ir",
      "display_name": "R"
    },
    "language_info": {
      "name": "R"
    }
  },
  "cells": [
    {
      "cell_type": "markdown",
      "source": [
        "# **Teste de Wilcoxon**"
      ],
      "metadata": {
        "id": "8PXhQDQEKJqx"
      }
    },
    {
      "cell_type": "markdown",
      "source": [
        "![image.png](data:image/png;base64,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)"
      ],
      "metadata": {
        "id": "RAFNqgbGKXVh"
      }
    },
    {
      "cell_type": "markdown",
      "source": [
        "# Dados"
      ],
      "metadata": {
        "id": "xSKblmBaKhZC"
      }
    },
    {
      "cell_type": "markdown",
      "source": [
        "\n",
        "O conjunto de dados fornece a medição da velocidade (m/s) para sete dançarinos de patinação no gelo usando a perna em flexão ou extensão. O dataset foi extraído da lib PairedData do R."
      ],
      "metadata": {
        "id": "kH1-v0loKjpN"
      }
    },
    {
      "cell_type": "code",
      "execution_count": 3,
      "metadata": {
        "colab": {
          "base_uri": "https://localhost:8080/"
        },
        "id": "VB4_aBPEH_ar",
        "outputId": "91189f56-8967-4b81-ea6e-a05b44eaa4ce"
      },
      "outputs": [
        {
          "output_type": "stream",
          "name": "stderr",
          "text": [
            "Installing package into ‘/usr/local/lib/R/site-library’\n",
            "(as ‘lib’ is unspecified)\n",
            "\n",
            "also installing the dependencies ‘proxy’, ‘e1071’, ‘lmom’, ‘gld’, ‘mvtnorm’\n",
            "\n",
            "\n"
          ]
        }
      ],
      "source": [
        "install.packages('PairedData')"
      ]
    },
    {
      "cell_type": "code",
      "source": [
        "library(PairedData)\n",
        "dados <- IceSkating\n",
        "dados"
      ],
      "metadata": {
        "colab": {
          "base_uri": "https://localhost:8080/",
          "height": 317
        },
        "id": "AAQAK6t4ISlD",
        "outputId": "2b43a692-a759-4d5a-bced-9b9785f5d1cc"
      },
      "execution_count": 14,
      "outputs": [
        {
          "output_type": "display_data",
          "data": {
            "text/html": [
              "<table class=\"dataframe\">\n",
              "<caption>A data.frame: 7 × 3</caption>\n",
              "<thead>\n",
              "\t<tr><th></th><th scope=col>Subject</th><th scope=col>Extension</th><th scope=col>Flexion</th></tr>\n",
              "\t<tr><th></th><th scope=col>&lt;chr&gt;</th><th scope=col>&lt;dbl&gt;</th><th scope=col>&lt;dbl&gt;</th></tr>\n",
              "</thead>\n",
              "<tbody>\n",
              "\t<tr><th scope=row>1</th><td>S1</td><td>2.13</td><td>1.90</td></tr>\n",
              "\t<tr><th scope=row>2</th><td>S2</td><td>1.77</td><td>1.55</td></tr>\n",
              "\t<tr><th scope=row>3</th><td>S3</td><td>1.68</td><td>1.62</td></tr>\n",
              "\t<tr><th scope=row>4</th><td>S4</td><td>2.04</td><td>1.89</td></tr>\n",
              "\t<tr><th scope=row>5</th><td>S5</td><td>2.12</td><td>2.01</td></tr>\n",
              "\t<tr><th scope=row>6</th><td>S6</td><td>1.92</td><td>1.91</td></tr>\n",
              "\t<tr><th scope=row>7</th><td>S7</td><td>2.08</td><td>2.10</td></tr>\n",
              "</tbody>\n",
              "</table>\n"
            ],
            "text/markdown": "\nA data.frame: 7 × 3\n\n| <!--/--> | Subject &lt;chr&gt; | Extension &lt;dbl&gt; | Flexion &lt;dbl&gt; |\n|---|---|---|---|\n| 1 | S1 | 2.13 | 1.90 |\n| 2 | S2 | 1.77 | 1.55 |\n| 3 | S3 | 1.68 | 1.62 |\n| 4 | S4 | 2.04 | 1.89 |\n| 5 | S5 | 2.12 | 2.01 |\n| 6 | S6 | 1.92 | 1.91 |\n| 7 | S7 | 2.08 | 2.10 |\n\n",
            "text/latex": "A data.frame: 7 × 3\n\\begin{tabular}{r|lll}\n  & Subject & Extension & Flexion\\\\\n  & <chr> & <dbl> & <dbl>\\\\\n\\hline\n\t1 & S1 & 2.13 & 1.90\\\\\n\t2 & S2 & 1.77 & 1.55\\\\\n\t3 & S3 & 1.68 & 1.62\\\\\n\t4 & S4 & 2.04 & 1.89\\\\\n\t5 & S5 & 2.12 & 2.01\\\\\n\t6 & S6 & 1.92 & 1.91\\\\\n\t7 & S7 & 2.08 & 2.10\\\\\n\\end{tabular}\n",
            "text/plain": [
              "  Subject Extension Flexion\n",
              "1 S1      2.13      1.90   \n",
              "2 S2      1.77      1.55   \n",
              "3 S3      1.68      1.62   \n",
              "4 S4      2.04      1.89   \n",
              "5 S5      2.12      2.01   \n",
              "6 S6      1.92      1.91   \n",
              "7 S7      2.08      2.10   "
            ]
          },
          "metadata": {}
        }
      ]
    },
    {
      "cell_type": "markdown",
      "source": [
        "# Hipóteses"
      ],
      "metadata": {
        "id": "sEmonCbnLXbM"
      }
    },
    {
      "cell_type": "markdown",
      "source": [
        "Vamois testar se a a velocidades das pernas em Extensão é menor que as velocidades das pernas em Flexão. Ou, matematicamente:"
      ],
      "metadata": {
        "id": "_O9bsrjtLger"
      }
    },
    {
      "cell_type": "markdown",
      "source": [
        "$$\n",
        "H_0: E\\text{(Flexão)} = E\\text{(Extensão)}\n",
        "$$\n",
        "$$\n",
        "𝗑\n",
        "$$\n",
        "$$\n",
        "H_1: E\\text{(Flexão)} < E\\text{(Extensão)}\n",
        "$$"
      ],
      "metadata": {
        "id": "SPaGIEITLxSx"
      }
    },
    {
      "cell_type": "code",
      "source": [
        "Y <- dados$Flexion\n",
        "X <- dados$Extension\n",
        "\n",
        "wilcox.test(Y,X,alternative = \"less\", paired = T,exact=T)"
      ],
      "metadata": {
        "colab": {
          "base_uri": "https://localhost:8080/",
          "height": 126
        },
        "id": "XZ6zYsv1LPot",
        "outputId": "1047c833-b5d8-46dd-d5b1-50153ad610c1"
      },
      "execution_count": 16,
      "outputs": [
        {
          "output_type": "display_data",
          "data": {
            "text/plain": [
              "\n",
              "\tWilcoxon signed rank exact test\n",
              "\n",
              "data:  Y and X\n",
              "V = 2, p-value = 0.02344\n",
              "alternative hypothesis: true location shift is less than 0\n"
            ]
          },
          "metadata": {}
        }
      ]
    },
    {
      "cell_type": "markdown",
      "source": [
        "# Decisão do Teste"
      ],
      "metadata": {
        "id": "neL03RwVNPwm"
      }
    },
    {
      "cell_type": "markdown",
      "source": [
        "Utilizando $α = 0,05$ rejeita-se $H_0$, uma vez que $p-valor < α$"
      ],
      "metadata": {
        "id": "b3d_VgyuNj9G"
      }
    },
    {
      "cell_type": "markdown",
      "source": [
        "# Conclusão"
      ],
      "metadata": {
        "id": "YCTvWcg4N3s-"
      }
    },
    {
      "cell_type": "markdown",
      "source": [
        "Com base no dados e dado um nível de significância de 5%, os dados nos dão evidências suficientes de que os níveis de velocidade não são menores que quando as pernas estão extendidas."
      ],
      "metadata": {
        "id": "xpvX5r2SN7Ev"
      }
    }
  ]
}